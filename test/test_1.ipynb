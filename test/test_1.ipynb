{
 "cells": [
  {
   "cell_type": "code",
   "execution_count": 2,
   "metadata": {},
   "outputs": [
    {
     "name": "stdout",
     "output_type": "stream",
     "text": [
      "原始数据:\n",
      "   姓名    年龄    成绩 性别\n",
      "0  小明  23.0  88.0  男\n",
      "1  小红  25.0  92.0  女\n",
      "2  小刚  22.0  85.0  男\n",
      "3  小华  24.0   NaN  女\n",
      "4  小李   NaN  90.0  男\n",
      "\n",
      "清洗后的数据:\n",
      "   姓名    年龄     成绩 性别\n",
      "0  小明  23.0  88.00  男\n",
      "1  小红  25.0  92.00  女\n",
      "2  小刚  22.0  85.00  男\n",
      "3  小华  24.0  88.75  女\n",
      "4  小李  23.5  90.00  男\n",
      "\n",
      "年龄大于23的学生:\n",
      "   姓名    年龄     成绩 性别\n",
      "1  小红  25.0  92.00  女\n",
      "3  小华  24.0  88.75  女\n",
      "4  小李  23.5  90.00  男\n",
      "\n",
      "按性别分组的平均成绩:\n",
      "性别\n",
      "女    90.375000\n",
      "男    87.666667\n",
      "Name: 成绩, dtype: float64\n"
     ]
    },
    {
     "name": "stderr",
     "output_type": "stream",
     "text": [
      "/tmp/ipykernel_16014/1739045105.py:19: FutureWarning: A value is trying to be set on a copy of a DataFrame or Series through chained assignment using an inplace method.\n",
      "The behavior will change in pandas 3.0. This inplace method will never work because the intermediate object on which we are setting values always behaves as a copy.\n",
      "\n",
      "For example, when doing 'df[col].method(value, inplace=True)', try using 'df.method({col: value}, inplace=True)' or df[col] = df[col].method(value) instead, to perform the operation inplace on the original object.\n",
      "\n",
      "\n",
      "  df['年龄'].fillna(df['年龄'].mean(), inplace=True)  # 用平均值填充年龄\n",
      "/tmp/ipykernel_16014/1739045105.py:20: FutureWarning: A value is trying to be set on a copy of a DataFrame or Series through chained assignment using an inplace method.\n",
      "The behavior will change in pandas 3.0. This inplace method will never work because the intermediate object on which we are setting values always behaves as a copy.\n",
      "\n",
      "For example, when doing 'df[col].method(value, inplace=True)', try using 'df.method({col: value}, inplace=True)' or df[col] = df[col].method(value) instead, to perform the operation inplace on the original object.\n",
      "\n",
      "\n",
      "  df['成绩'].fillna(df['成绩'].mean(), inplace=True)  # 用平均值填充成绩\n",
      "/opt/conda/lib/python3.12/site-packages/IPython/core/pylabtools.py:170: UserWarning: Glyph 20154 (\\N{CJK UNIFIED IDEOGRAPH-4EBA}) missing from current font.\n",
      "  fig.canvas.print_figure(bytes_io, **kw)\n",
      "/opt/conda/lib/python3.12/site-packages/IPython/core/pylabtools.py:170: UserWarning: Glyph 25968 (\\N{CJK UNIFIED IDEOGRAPH-6570}) missing from current font.\n",
      "  fig.canvas.print_figure(bytes_io, **kw)\n",
      "/opt/conda/lib/python3.12/site-packages/IPython/core/pylabtools.py:170: UserWarning: Glyph 24615 (\\N{CJK UNIFIED IDEOGRAPH-6027}) missing from current font.\n",
      "  fig.canvas.print_figure(bytes_io, **kw)\n",
      "/opt/conda/lib/python3.12/site-packages/IPython/core/pylabtools.py:170: UserWarning: Glyph 21035 (\\N{CJK UNIFIED IDEOGRAPH-522B}) missing from current font.\n",
      "  fig.canvas.print_figure(bytes_io, **kw)\n",
      "/opt/conda/lib/python3.12/site-packages/IPython/core/pylabtools.py:170: UserWarning: Glyph 20998 (\\N{CJK UNIFIED IDEOGRAPH-5206}) missing from current font.\n",
      "  fig.canvas.print_figure(bytes_io, **kw)\n",
      "/opt/conda/lib/python3.12/site-packages/IPython/core/pylabtools.py:170: UserWarning: Glyph 24067 (\\N{CJK UNIFIED IDEOGRAPH-5E03}) missing from current font.\n",
      "  fig.canvas.print_figure(bytes_io, **kw)\n",
      "/opt/conda/lib/python3.12/site-packages/IPython/core/pylabtools.py:170: UserWarning: Glyph 30007 (\\N{CJK UNIFIED IDEOGRAPH-7537}) missing from current font.\n",
      "  fig.canvas.print_figure(bytes_io, **kw)\n",
      "/opt/conda/lib/python3.12/site-packages/IPython/core/pylabtools.py:170: UserWarning: Glyph 22899 (\\N{CJK UNIFIED IDEOGRAPH-5973}) missing from current font.\n",
      "  fig.canvas.print_figure(bytes_io, **kw)\n"
     ]
    },
    {
     "data": {
      "image/png": "[encoded data removed]",
      "text/plain": [
       "<Figure size 800x500 with 1 Axes>"
      ]
     },
     "metadata": {},
     "output_type": "display_data"
    },
    {
     "name": "stdout",
     "output_type": "stream",
     "text": [
      "\n",
      "数据已输出到 '学生数据.csv'\n"
     ]
    }
   ],
   "source": [
    "import pandas as pd\n",
    "import numpy as np\n",
    "import matplotlib.pyplot as plt\n",
    "\n",
    "# 1. 创建 DataFrame\n",
    "data = {\n",
    "    '姓名': ['小明', '小红', '小刚', '小华', '小李'],\n",
    "    '年龄': [23, 25, 22, 24, np.nan],\n",
    "    '成绩': [88, 92, 85, np.nan, 90],\n",
    "    '性别': ['男', '女', '男', '女', '男']\n",
    "}\n",
    "\n",
    "df = pd.DataFrame(data)\n",
    "print(\"原始数据:\")\n",
    "print(df)\n",
    "\n",
    "# 2. 数据清洗\n",
    "# 填充缺失值\n",
    "df['年龄'].fillna(df['年龄'].mean(), inplace=True)  # 用平均值填充年龄\n",
    "df['成绩'].fillna(df['成绩'].mean(), inplace=True)  # 用平均值填充成绩\n",
    "\n",
    "print(\"\\n清洗后的数据:\")\n",
    "print(df)\n",
    "\n",
    "# 3. 数据选择与过滤\n",
    "# 选择年龄大于23的学生\n",
    "filtered_df = df[df['年龄'] > 23]\n",
    "print(\"\\n年龄大于23的学生:\")\n",
    "print(filtered_df)\n",
    "\n",
    "# 4. 分组与聚合\n",
    "# 按性别分组并计算平均成绩\n",
    "grouped = df.groupby('性别')['成绩'].mean()\n",
    "print(\"\\n按性别分组的平均成绩:\")\n",
    "print(grouped)\n",
    "\n",
    "# 5. 数据可视化\n",
    "plt.figure(figsize=(8, 5))\n",
    "df['性别'].value_counts().plot(kind='bar', color=['blue', 'pink'])\n",
    "plt.title('性别分布')\n",
    "plt.xlabel('性别')\n",
    "plt.ylabel('人数')\n",
    "plt.xticks(rotation=0)\n",
    "plt.show()\n",
    "\n",
    "# 6. 输出到 CSV 文件\n",
    "df.to_csv('学生数据.csv', index=False)\n",
    "print(\"\\n数据已输出到 '学生数据.csv'\")"
   ]
  }
 ],
 "metadata": {
  "kernelspec": {
   "display_name": "base",
   "language": "python",
   "name": "python3"
  },
  "language_info": {
   "codemirror_mode": {
    "name": "ipython",
    "version": 3
   },
   "file_extension": ".py",
   "mimetype": "text/x-python",
   "name": "python",
   "nbconvert_exporter": "python",
   "pygments_lexer": "ipython3",
   "version": "3.12.4"
  }
 },
 "nbformat": 4,
 "nbformat_minor": 2
}
