{
 "cells": [
  {
   "cell_type": "code",
   "execution_count": null,
   "metadata": {},
   "outputs": [],
   "source": [
    "#Financial Functions for Python\n",
    "#pip install ffn\n",
    "#fince\n",
    "#http://pmorissette.github.io/ffn/quick.html\n",
    "\n",
    "import ffn\n",
    "\n",
    "stock_no = '2330.TW'\n",
    "stock_data = ffn.get([stock_no,'1101.TW'],start='2022-01-01',end='2022-12-31')\n",
    "print(type(stock_data))\n",
    "display(stock_data)\n",
    "stock_data.plot()"
   ]
  },
  {
   "cell_type": "code",
   "execution_count": null,
   "metadata": {},
   "outputs": [],
   "source": [
    "import csv\n",
    "import pandas as pd\n",
    "with open('codeSearch.csv',encoding='utf-8',newline='') as file:\n",
    "    next(file)\n",
    "    csv_reader = csv.reader(file)\n",
    "    stock_codes = {}\n",
    "    for item in csv_reader:\n",
    "        key = item[2]\n",
    "        stock_codes[key] = item[3]\n",
    "code_series = pd.Series(stock_codes)\n",
    "display(code_series.index.tolist())\n",
    "display(code_series.values.tolist())"
   ]
  },
  {
   "cell_type": "code",
   "execution_count": null,
   "metadata": {},
   "outputs": [],
   "source": []
  }
 ],
 "metadata": {
  "kernelspec": {
   "display_name": "tensor",
   "language": "python",
   "name": "python3"
  },
  "language_info": {
   "codemirror_mode": {
    "name": "ipython",
    "version": 3
   },
   "file_extension": ".py",
   "mimetype": "text/x-python",
   "name": "python",
   "nbconvert_exporter": "python",
   "pygments_lexer": "ipython3",
   "version": "3.9.18"
  }
 },
 "nbformat": 4,
 "nbformat_minor": 2
}
