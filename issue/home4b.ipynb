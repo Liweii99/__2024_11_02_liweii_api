{
 "cells": [
  {
   "cell_type": "code",
   "execution_count": 2,
   "metadata": {},
   "outputs": [
    {
     "name": "stdout",
     "output_type": "stream",
     "text": [
      "大樂透號碼: [4, 5, 6, 11, 33, 37, 44]\n",
      "特別號: 38\n"
     ]
    }
   ],
   "source": [
    "import random\n",
    "\n",
    "def generate_lotto_numbers():\n",
    "    # 使用 set 來存儲不重複的號碼\n",
    "    lotto_numbers = set()\n",
    "\n",
    "    # 隨機選擇七個不重複的號碼\n",
    "    while len(lotto_numbers) < 7:\n",
    "        number = random.randint(1, 49)\n",
    "        lotto_numbers.add(number)\n",
    "\n",
    "    # 將 set 轉換為 list 並排序\n",
    "    lotto_numbers = sorted(list(lotto_numbers))\n",
    "\n",
    "    # 隨機選擇一個特別號，確保不與已選號碼重複\n",
    "    special_number = random.randint(1, 49)\n",
    "    while special_number in lotto_numbers:\n",
    "        special_number = random.randint(1, 49)\n",
    "\n",
    "    return lotto_numbers, special_number\n",
    "\n",
    "# 執行程式並顯示結果\n",
    "if __name__ == \"__main__\":\n",
    "    numbers, special = generate_lotto_numbers()\n",
    "    print(\"大樂透號碼:\", numbers)\n",
    "    print(\"特別號:\", special)"
   ]
  }
 ],
 "metadata": {
  "kernelspec": {
   "display_name": "base",
   "language": "python",
   "name": "python3"
  },
  "language_info": {
   "codemirror_mode": {
    "name": "ipython",
    "version": 3
   },
   "file_extension": ".py",
   "mimetype": "text/x-python",
   "name": "python",
   "nbconvert_exporter": "python",
   "pygments_lexer": "ipython3",
   "version": "3.12.4"
  }
 },
 "nbformat": 4,
 "nbformat_minor": 2
}
