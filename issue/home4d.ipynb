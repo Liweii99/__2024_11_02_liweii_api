{
 "cells": [
  {
   "cell_type": "code",
   "execution_count": 9,
   "metadata": {},
   "outputs": [
    {
     "name": "stdout",
     "output_type": "stream",
     "text": [
      "本期大樂透電腦選號號碼如下:[7, 9, 13, 21, 22, 35]\n",
      "特別號: 22\n"
     ]
    }
   ],
   "source": [
    "import random\n",
    "\n",
    "def Lotto_numbers():\n",
    "    lotto_numbers = set()\n",
    "\n",
    "    while len(lotto_numbers) < 7:\n",
    "        number = random.randint(1, 49)\n",
    "        lotto_numbers.add(number)\n",
    "    lotto_numbers = list(lotto_numbers)\n",
    "    special_number = lotto_numbers[-1]\n",
    "    lotto_numbers = sorted(lotto_numbers)\n",
    "    #numbers.pop() \n",
    "    return lotto_numbers, special_number\n",
    "\n",
    "def main():\n",
    "    numbers, special = Lotto_numbers()\n",
    "    print(f'本期大樂透電腦選號號碼如下:{numbers[:6]}')\n",
    "    #print(\"本期大樂透電腦選號號碼如下:\",numbers[:6])\n",
    "    print(f'特別號: {special}')\n",
    "if __name__ == \"__main__\":\n",
    "    main()\n",
    "   \n",
    "\n",
    "    "
   ]
  }
 ],
 "metadata": {
  "kernelspec": {
   "display_name": "base",
   "language": "python",
   "name": "python3"
  },
  "language_info": {
   "codemirror_mode": {
    "name": "ipython",
    "version": 3
   },
   "file_extension": ".py",
   "mimetype": "text/x-python",
   "name": "python",
   "nbconvert_exporter": "python",
   "pygments_lexer": "ipython3",
   "version": "3.12.4"
  }
 },
 "nbformat": 4,
 "nbformat_minor": 2
}
