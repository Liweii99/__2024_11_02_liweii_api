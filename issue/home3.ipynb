{
 "cells": [
  {
   "cell_type": "code",
   "execution_count": 1,
   "metadata": {},
   "outputs": [
    {
     "name": "stdout",
     "output_type": "stream",
     "text": [
      "您的BMI值是19.24\n",
      "您的體重是68.0\n",
      "您的身體質量指數屬於\n",
      "正常範圍\n",
      "程式結束\n"
     ]
    }
   ],
   "source": [
    "class BMI():\n",
    "    def __init__(self,name:str,height:float,weight:float):\n",
    "        self.name=name\n",
    "        self.height = height\n",
    "        self.weight = weight\n",
    "\n",
    "    def get_BMI(self)->float:\n",
    "        BMI_issue = round(self.weight/ ((self.height/100)**2),2)\n",
    "        return BMI_issue\n",
    " # instance method\n",
    "    #def get_status(self,bmi:float)->str:\n",
    "    def get_status(self)->str:\n",
    "        bmi = self.get_BMI()\n",
    "        if bmi >= 35 :\n",
    "            return '重度肥胖'\n",
    "        elif bmi >= 30 :\n",
    "            return'中度肥胖'        \n",
    "        elif bmi >= 27 :\n",
    "            return'輕度肥胖'\n",
    "        elif bmi >= 24 :\n",
    "            return'體重過重'\n",
    "        elif bmi >= 18.5 :\n",
    "            return'正常範圍'\n",
    "        else :\n",
    "            return'體重過輕'\n",
    "        \n",
    "def main():  \n",
    "    while(True):\n",
    "        try:\n",
    "            name = input(\"姓名:\")\n",
    "            height = float(input(\"請輸入身高(公分):\"))\n",
    "            weight = float(input(\"請輸入體重(公斤):\"))\n",
    "            p1 = BMI(name,height,weight)  \n",
    "            #p1 = BMI(name=name,height=height,weight=weight) \n",
    "            break\n",
    "        except Exception:\n",
    "            print('輸入格式錯誤,請重新輸入!')\n",
    "        \n",
    "    print(f\"您的BMI值是{p1.get_BMI()}\\n您的體重是{p1.weight}\\n您的身體質量指數屬於\")\n",
    "    print(p1.get_status())\n",
    "    print(\"程式結束\")\n",
    "\n",
    "if __name__ == '__main__':\n",
    "    main()"
   ]
  }
 ],
 "metadata": {
  "kernelspec": {
   "display_name": "base",
   "language": "python",
   "name": "python3"
  },
  "language_info": {
   "codemirror_mode": {
    "name": "ipython",
    "version": 3
   },
   "file_extension": ".py",
   "mimetype": "text/x-python",
   "name": "python",
   "nbconvert_exporter": "python",
   "pygments_lexer": "ipython3",
   "version": "3.12.4"
  }
 },
 "nbformat": 4,
 "nbformat_minor": 2
}
