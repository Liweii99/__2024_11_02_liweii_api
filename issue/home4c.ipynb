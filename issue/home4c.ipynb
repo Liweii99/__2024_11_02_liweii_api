{
 "cells": [
  {
   "cell_type": "code",
   "execution_count": 2,
   "metadata": {},
   "outputs": [
    {
     "name": "stdout",
     "output_type": "stream",
     "text": [
      "本期大樂透電腦選號號碼如下:[6, 7, 8, 19, 40, 41, 49]\n",
      "特別號: 38\n"
     ]
    }
   ],
   "source": [
    "import random\n",
    "\n",
    "def Lotto_numbers():\n",
    "    lotto_numbers = set()\n",
    "\n",
    "    while len(lotto_numbers) < 7:\n",
    "        number = random.randint(1, 49)\n",
    "        lotto_numbers.add(number)\n",
    "\n",
    "    lotto_numbers = sorted(list(lotto_numbers))\n",
    "    special_number = random.randint(1, 49)\n",
    "\n",
    "    while special_number in lotto_numbers:\n",
    "        special_number = random.randint(1, 49)\n",
    "\n",
    "    return lotto_numbers, special_number\n",
    "\n",
    "def main():\n",
    "    numbers, special = Lotto_numbers()\n",
    "    print(f'本期大樂透電腦選號號碼如下:{numbers}')\n",
    "    #print(\"本期大樂透電腦選號號碼如下:\", ', '.join(map(str, numbers)))\n",
    "    #print(\"本期大樂透電腦選號號碼如下:\",numbers)\n",
    "    print(\"特別號:\", special)\n",
    "\n",
    "if __name__ == \"__main__\":\n",
    "    main()\n",
    "   "
   ]
  }
 ],
 "metadata": {
  "kernelspec": {
   "display_name": "base",
   "language": "python",
   "name": "python3"
  },
  "language_info": {
   "codemirror_mode": {
    "name": "ipython",
    "version": 3
   },
   "file_extension": ".py",
   "mimetype": "text/x-python",
   "name": "python",
   "nbconvert_exporter": "python",
   "pygments_lexer": "ipython3",
   "version": "3.12.4"
  }
 },
 "nbformat": 4,
 "nbformat_minor": 2
}
