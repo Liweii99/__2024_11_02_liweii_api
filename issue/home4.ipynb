{
 "cells": [
  {
   "cell_type": "code",
   "execution_count": 4,
   "metadata": {},
   "outputs": [
    {
     "name": "stdout",
     "output_type": "stream",
     "text": [
      "選擇的大樂透號碼是: [41, 42, 29, 40, 2, 15]\n"
     ]
    }
   ],
   "source": [
    "import random\n",
    "\n",
    "# 步驟 1：建立數字列表\n",
    "numbers = list(range(1, 50))\n",
    "\n",
    "# 步驟 2：隨機選取六個不重複的數字\n",
    "selected_numbers = random.sample(numbers, 6)\n",
    "\n",
    "# 步驟 3：顯示結果\n",
    "print(\"選擇的大樂透號碼是:\", selected_numbers)"
   ]
  }
 ],
 "metadata": {
  "kernelspec": {
   "display_name": "base",
   "language": "python",
   "name": "python3"
  },
  "language_info": {
   "codemirror_mode": {
    "name": "ipython",
    "version": 3
   },
   "file_extension": ".py",
   "mimetype": "text/x-python",
   "name": "python",
   "nbconvert_exporter": "python",
   "pygments_lexer": "ipython3",
   "version": "3.12.4"
  }
 },
 "nbformat": 4,
 "nbformat_minor": 2
}
