{
 "cells": [
  {
   "cell_type": "code",
   "execution_count": 4,
   "metadata": {},
   "outputs": [
    {
     "name": "stdout",
     "output_type": "stream",
     "text": [
      "選擇的大樂透號碼是: [41, 42, 29, 40, 2, 15]\n"
     ]
    }
   ],
   "source": [
    "import random\n",
    "\n",
    "# 步驟 1：建立數字列表\n",
    "numbers = list(range(1, 50))\n",
    "\n",
    "# 步驟 2：隨機選取六個不重複的數字\n",
    "selected_numbers = random.sample(numbers, 6)\n",
    "\n",
    "# 步驟 3：顯示結果\n",
    "print(\"選擇的大樂透號碼是:\", selected_numbers)"
   ]
  },
  {
   "cell_type": "code",
   "execution_count": 2,
   "metadata": {},
   "outputs": [
    {
     "name": "stdout",
     "output_type": "stream",
     "text": [
      "本期大樂透電腦選號號碼如下: [4, 13, 14, 17, 26, 33, 48]\n"
     ]
    }
   ],
   "source": [
    "import random\n",
    "\n",
    "def generate_lotto_numbers():\n",
    "    # 步驟 1：建立數字列表\n",
    "    numbers = list(range(1, 50))\n",
    "    \n",
    "    # 步驟 2：隨機選取七個不重複的數字\n",
    "    selected_numbers = random.sample(numbers, 7)\n",
    "    \n",
    "    # 步驟 3：將選取的數字按從小到大排序\n",
    "    selected_numbers.sort()\n",
    "    \n",
    "    # 步驟 4：顯示結果\n",
    "    print(\"本期大樂透電腦選號號碼如下:\", selected_numbers)\n",
    "\n",
    "# 執行程式\n",
    "generate_lotto_numbers()"
   ]
  },
  {
   "cell_type": "code",
   "execution_count": 5,
   "metadata": {},
   "outputs": [
    {
     "name": "stdout",
     "output_type": "stream",
     "text": [
      "本期大樂透電腦選號號碼如下: [2, 10, 12, 27, 28, 33, 41]\n",
      "特別號: [43]\n"
     ]
    }
   ],
   "source": [
    "import random\n",
    "\n",
    "def generate_lotto_numbers():\n",
    "    # 步驟 1：建立數字列表\n",
    "    numbers = list(range(1, 50))\n",
    "    \n",
    "    # 步驟 2：隨機選取七個不重複的數字\n",
    "    selected_numbers = random.sample(numbers, 7)\n",
    "    # 步驟 3：將選取的數字按從小到大排序\n",
    "    selected_numbers.sort()\n",
    "\n",
    "    selected_numbers1 = random.sample(numbers, 1)\n",
    "    # 步驟 3：將選取的數字按從小到大排序\n",
    "    selected_numbers1.sort()\n",
    "    \n",
    "    # 步驟 4：顯示結果\n",
    "    print(\"本期大樂透電腦選號號碼如下:\", selected_numbers)\n",
    "\n",
    "    print(\"特別號:\", selected_numbers1)\n",
    "\n",
    "# 執行程式\n",
    "generate_lotto_numbers()"
   ]
  },
  {
   "cell_type": "code",
   "execution_count": 6,
   "metadata": {},
   "outputs": [
    {
     "name": "stdout",
     "output_type": "stream",
     "text": [
      "選擇的大樂透號碼是: 7, 9, 22, 32, 38, 41, 43\n"
     ]
    }
   ],
   "source": [
    "import random\n",
    "\n",
    "def generate_lotto_numbers():\n",
    "    # 步驟 1：建立數字列表\n",
    "    numbers = list(range(1, 50))\n",
    "    \n",
    "    # 步驟 2：隨機選取七個不重複的數字\n",
    "    selected_numbers = random.sample(numbers, 7)\n",
    "    \n",
    "    # 步驟 3：將選取的數字按從小到大排序\n",
    "    selected_numbers.sort()\n",
    "    \n",
    "    # 步驟 4：將數字轉換為字串並用逗號分隔\n",
    "    result = ', '.join(map(str, selected_numbers))\n",
    "    \n",
    "    # 步驟 5：顯示結果\n",
    "    print(\"選擇的大樂透號碼是:\", result)\n",
    "\n",
    "# 執行程式\n",
    "generate_lotto_numbers()"
   ]
  }
 ],
 "metadata": {
  "kernelspec": {
   "display_name": "base",
   "language": "python",
   "name": "python3"
  },
  "language_info": {
   "codemirror_mode": {
    "name": "ipython",
    "version": 3
   },
   "file_extension": ".py",
   "mimetype": "text/x-python",
   "name": "python",
   "nbconvert_exporter": "python",
   "pygments_lexer": "ipython3",
   "version": "3.12.4"
  }
 },
 "nbformat": 4,
 "nbformat_minor": 2
}
