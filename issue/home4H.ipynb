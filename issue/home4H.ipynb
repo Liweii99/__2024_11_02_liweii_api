{
 "cells": [
  {
   "cell_type": "code",
   "execution_count": 2,
   "metadata": {},
   "outputs": [
    {
     "name": "stdout",
     "output_type": "stream",
     "text": [
      "本期大樂透電腦選號號碼如下:[2, 3, 11, 13, 43, 45]\n",
      "特別號:29\n",
      "本期大樂透電腦選號號碼如下:[10, 14, 20, 32, 41, 49]\n",
      "特別號:31\n",
      "本期大樂透電腦選號號碼如下:[12, 19, 22, 36, 37, 49]\n",
      "特別號:30\n"
     ]
    }
   ],
   "source": [
    "import random\n",
    "\n",
    "def Lotto_numbers():\n",
    "    lotto_numbers = set()\n",
    "\n",
    "    while len(lotto_numbers) < 7:\n",
    "        number = random.randint(1, 49)\n",
    "        lotto_numbers.add(number)\n",
    "    lotto_numbers = list(lotto_numbers)\n",
    "    special_number = lotto_numbers[-1]\n",
    "    lotto_numbers = sorted(lotto_numbers[:6])\n",
    "    return lotto_numbers, special_number\n",
    "\n",
    "def main():\n",
    "    while True:\n",
    "      numbers, special = Lotto_numbers()\n",
    "      print(f'本期大樂透電腦選號號碼如下:{numbers}')\n",
    "      print(f'特別號:{special}')\n",
    "      play_again = input(\"還要繼續嗎?(y,n)\")\n",
    "      if play_again == \"n\":\n",
    "        break\n",
    "if __name__ == \"__main__\":\n",
    "    main()"
   ]
  }
 ],
 "metadata": {
  "kernelspec": {
   "display_name": "base",
   "language": "python",
   "name": "python3"
  },
  "language_info": {
   "codemirror_mode": {
    "name": "ipython",
    "version": 3
   },
   "file_extension": ".py",
   "mimetype": "text/x-python",
   "name": "python",
   "nbconvert_exporter": "python",
   "pygments_lexer": "ipython3",
   "version": "3.12.4"
  }
 },
 "nbformat": 4,
 "nbformat_minor": 2
}
