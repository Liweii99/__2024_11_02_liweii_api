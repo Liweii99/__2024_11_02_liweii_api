{
 "cells": [
  {
   "cell_type": "code",
   "execution_count": null,
   "metadata": {},
   "outputs": [],
   "source": [
    "import random\n",
    "\n",
    "def Lotto_numbers():\n",
    "    lotto_numbers = set()\n",
    "\n",
    "    while len(lotto_numbers) < 7:\n",
    "        number = random.randint(1, 49)\n",
    "        lotto_numbers.add(number)\n",
    "    lotto_numbers = list(lotto_numbers)\n",
    "    special_number = lotto_numbers[-1]\n",
    "    lotto_numbers = sorted(lotto_numbers[:6])\n",
    "    return lotto_numbers, special_number\n",
    "\n",
    "def main():\n",
    "    while True:\n",
    "      numbers, special = Lotto_numbers()\n",
    "      print(f'本期大樂透電腦選號號碼如下:{numbers}')\n",
    "      print(f'特別號:{special}')\n",
    "      play_again = input(\"還要繼續嗎?(y,n)\")\n",
    "      if play_again == \"n\":\n",
    "        break\n",
    "if __name__ == \"__main__\":\n",
    "    main()"
   ]
  }
 ],
 "metadata": {
  "kernelspec": {
   "display_name": "base",
   "language": "python",
   "name": "python3"
  },
  "language_info": {
   "name": "python",
   "version": "3.12.4"
  }
 },
 "nbformat": 4,
 "nbformat_minor": 2
}
