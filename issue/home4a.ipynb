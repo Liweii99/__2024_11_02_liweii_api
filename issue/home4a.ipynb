{
 "cells": [
  {
   "cell_type": "code",
   "execution_count": 1,
   "metadata": {},
   "outputs": [
    {
     "name": "stdout",
     "output_type": "stream",
     "text": [
      "大樂透號碼: [2, 8, 22, 29, 30, 42, 49]\n",
      "特別號碼: 39\n"
     ]
    }
   ],
   "source": [
    "import random\n",
    "\n",
    "def generate_lotto_numbers():\n",
    "    # 隨機選擇七個不重複的號碼\n",
    "    main_numbers = set()\n",
    "    \n",
    "    while len(main_numbers) < 7:\n",
    "        number = random.randint(1, 49)\n",
    "        main_numbers.add(number)\n",
    "    \n",
    "    # 將集合轉換為列表並排序\n",
    "    main_numbers = sorted(list(main_numbers))\n",
    "    \n",
    "    # 隨機選擇一個特別號碼，確保它不在主號碼中\n",
    "    special_number = random.randint(1, 49)\n",
    "    while special_number in main_numbers:\n",
    "        special_number = random.randint(1, 49)\n",
    "    \n",
    "    return main_numbers, special_number\n",
    "\n",
    "def main():\n",
    "    main_numbers, special_number = generate_lotto_numbers()\n",
    "    print(\"大樂透號碼:\", main_numbers)\n",
    "    print(\"特別號碼:\", special_number)\n",
    "\n",
    "if __name__ == \"__main__\":\n",
    "    main()"
   ]
  }
 ],
 "metadata": {
  "kernelspec": {
   "display_name": "base",
   "language": "python",
   "name": "python3"
  },
  "language_info": {
   "codemirror_mode": {
    "name": "ipython",
    "version": 3
   },
   "file_extension": ".py",
   "mimetype": "text/x-python",
   "name": "python",
   "nbconvert_exporter": "python",
   "pygments_lexer": "ipython3",
   "version": "3.12.4"
  }
 },
 "nbformat": 4,
 "nbformat_minor": 2
}
