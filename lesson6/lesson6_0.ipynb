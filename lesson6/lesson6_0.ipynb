{
 "cells": [
  {
   "cell_type": "code",
   "execution_count": 1,
   "metadata": {},
   "outputs": [
    {
     "name": "stdout",
     "output_type": "stream",
     "text": [
      "hello wold\n"
     ]
    }
   ],
   "source": [
    "print ('hello wold')"
   ]
  },
  {
   "cell_type": "code",
   "execution_count": null,
   "metadata": {},
   "outputs": [],
   "source": [
    "def main():\n",
    "    pass\n",
    "if __name__=='__main__':\n",
    "    main()"
   ]
  },
  {
   "cell_type": "code",
   "execution_count": null,
   "metadata": {},
   "outputs": [],
   "source": [
    "import random\n",
    "set1 = set()\n",
    "SpecialNum=0 #文件變數\n",
    "mysetlist=[]\n",
    "while len(set1)<7:\n",
    "    myrandNum=random.randint(1,49)\n",
    "    set1.add(myrandNum)\n",
    "    if len(set1)==7:\n",
    "        SpecialNum=myrandNum\n",
    "        set1.remove(SpecialNum)\n",
    "        mysetlist = sorted(set1)\n",
    "        break\n",
    "mysetlist.append(SpecialNum)\n",
    "print(\"本期大樂透電腦選號號碼如下:\")\n",
    "for num in mysetlist:\n",
    "    print(num,end=\" \")\n",
    "print() \n",
    "print(\"特別號:\",SpecialNum)"
   ]
  },
  {
   "cell_type": "code",
   "execution_count": 2,
   "metadata": {},
   "outputs": [
    {
     "name": "stdout",
     "output_type": "stream",
     "text": [
      "本期大樂透電腦選號號碼如下:\n",
      "6 17 22 33 42 44 46 \n",
      "特別號:,46\n"
     ]
    }
   ],
   "source": [
    "import random\n",
    "\n",
    "def main():\n",
    "    set1:set = set()\n",
    "\n",
    "\n",
    "    while len(set1) < 7:\n",
    "        myrandNum=random.randint(1,49)\n",
    "        set1.add(myrandNum)\n",
    "        if len(set1) == 7:\n",
    "            SpecialNum=myrandNum\n",
    "            set1.remove(SpecialNum)\n",
    "            mysetlist = sorted(set1)\n",
    "            break\n",
    "    mysetlist.append(SpecialNum)\n",
    "\n",
    "    print(\"本期大樂透電腦選號號碼如下:\")\n",
    "    for num in mysetlist:\n",
    "        print(num,end=\" \")\n",
    "    print() \n",
    "    print(f\"特別號:,{SpecialNum}\")\n",
    "\n",
    "   \n",
    "if __name__=='__main__':\n",
    "    main()"
   ]
  }
 ],
 "metadata": {
  "kernelspec": {
   "display_name": "base",
   "language": "python",
   "name": "python3"
  },
  "language_info": {
   "codemirror_mode": {
    "name": "ipython",
    "version": 3
   },
   "file_extension": ".py",
   "mimetype": "text/x-python",
   "name": "python",
   "nbconvert_exporter": "python",
   "pygments_lexer": "ipython3",
   "version": "3.12.4"
  }
 },
 "nbformat": 4,
 "nbformat_minor": 2
}
