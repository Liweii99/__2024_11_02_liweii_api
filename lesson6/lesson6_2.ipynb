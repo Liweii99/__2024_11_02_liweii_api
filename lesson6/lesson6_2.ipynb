{
 "cells": [
  {
   "cell_type": "code",
   "execution_count": 13,
   "metadata": {},
   "outputs": [
    {
     "data": {
      "text/plain": [
       "openpyxl.workbook.workbook.Workbook"
      ]
     },
     "execution_count": 13,
     "metadata": {},
     "output_type": "execute_result"
    }
   ],
   "source": [
    "from openpyxl import load_workbook, Workbook, worksheet\n",
    "\n",
    "wb:Workbook = load_workbook('aqi.xlsx')\n",
    "type(wb)\n"
   ]
  },
  {
   "cell_type": "code",
   "execution_count": 14,
   "metadata": {},
   "outputs": [
    {
     "data": {
      "text/plain": [
       "openpyxl.worksheet.worksheet.Worksheet"
      ]
     },
     "execution_count": 14,
     "metadata": {},
     "output_type": "execute_result"
    }
   ],
   "source": [
    "sheet = wb.worksheets[0]\n",
    "type(sheet)"
   ]
  },
  {
   "cell_type": "code",
   "execution_count": null,
   "metadata": {},
   "outputs": [],
   "source": [
    "sheet = wb.worksheets[0]\n",
    "type(sheet)\n",
    "for row in sheet:\n",
    "    print(row)"
   ]
  },
  {
   "cell_type": "code",
   "execution_count": null,
   "metadata": {},
   "outputs": [],
   "source": [
    "sheet = wb.worksheets[0]\n",
    "type(sheet)\n",
    "sheets:list = []\n",
    "for row in sheet:\n",
    "    print(row)"
   ]
  },
  {
   "cell_type": "code",
   "execution_count": null,
   "metadata": {},
   "outputs": [],
   "source": [
    "sheet = wb.worksheets[0]\n",
    "type(sheet)\n",
    "sheets:list = []\n",
    "for row in sheet:\n",
    "    for row_cell in row:\n",
    "         print(row_cell)"
   ]
  },
  {
   "cell_type": "code",
   "execution_count": null,
   "metadata": {},
   "outputs": [],
   "source": [
    "sheet = wb.worksheets[0]\n",
    "type(sheet)\n",
    "sheets:list = []\n",
    "for row in sheet:\n",
    "    for row_cell in row:\n",
    "         print(row_cell.value)"
   ]
  },
  {
   "cell_type": "code",
   "execution_count": null,
   "metadata": {},
   "outputs": [],
   "source": [
    "sheet:worksheet = wb.worksheets[0]\n",
    "type(sheet)\n",
    "sheets:list = []\n",
    "for row in sheet:\n",
    "    column_name = [cell.value for cell in row]\n",
    "    print(column_name)\n",
    "    "
   ]
  },
  {
   "cell_type": "code",
   "execution_count": null,
   "metadata": {},
   "outputs": [],
   "source": [
    "sheet:worksheet = wb.worksheets[0]\n",
    "type(sheet)\n",
    "sheets:list = []\n",
    "column_name = [cell.value for cell in list(sheet)[0]]\n",
    "column_name"
   ]
  },
  {
   "cell_type": "code",
   "execution_count": null,
   "metadata": {},
   "outputs": [],
   "source": [
    "sheet:worksheet = wb.worksheets[0]\n",
    "type(sheet)\n",
    "sheets:list = []\n",
    "column_name = [cell.value for cell in list(sheet)[0]]\n",
    "\n",
    "for row in list(sheet)[1:]:\n",
    "    for item in enumerate(row):\n",
    "        print(item)"
   ]
  },
  {
   "cell_type": "code",
   "execution_count": null,
   "metadata": {},
   "outputs": [],
   "source": [
    "sheet:worksheet = wb.worksheets[0]\n",
    "type(sheet)\n",
    "sheets:list = []\n",
    "column_name = [cell.value for cell in list(sheet)[0]]\n",
    "\n",
    "for row in list(sheet)[1:]:\n",
    "    for idx,item in enumerate(row):\n",
    "        print(idx,item.value)"
   ]
  },
  {
   "cell_type": "code",
   "execution_count": null,
   "metadata": {},
   "outputs": [],
   "source": [
    "sheet:worksheet = wb.worksheets[0]\n",
    "type(sheet)\n",
    "sheets:list = []\n",
    "column_names = [cell.value for cell in list(sheet)[0]]\n",
    "\n",
    "for row in list(sheet)[1:]:\n",
    "    for idx,item in enumerate(row):\n",
    "        print(column_names[idx],item.value)"
   ]
  },
  {
   "cell_type": "code",
   "execution_count": null,
   "metadata": {},
   "outputs": [],
   "source": [
    "sheet:worksheet = wb.worksheets[0]\n",
    "type(sheet)\n",
    "sheets:list = []\n",
    "column_name = [cell.value for cell in list(sheet)[0]]\n",
    "\n",
    "for row in list(sheet)[1:]:\n",
    "    for idx,item in enumerate(row):\n",
    "        #print(idx,item.value)\n",
    "        print(column_names[idx],item.value)\n",
    "        print(\"==============\")"
   ]
  },
  {
   "cell_type": "code",
   "execution_count": null,
   "metadata": {},
   "outputs": [],
   "source": [
    "sheet:worksheet = wb.worksheets[0]\n",
    "type(sheet)\n",
    "sheets:list = []\n",
    "column_name = [cell.value for cell in list(sheet)[0]]\n",
    "\n",
    "for row in list(sheet)[1:]:\n",
    "    for idx,item in enumerate(row):\n",
    "        #print(idx,item.value)\n",
    "        print(column_names[idx],item.value)\n",
    "print(\"==============\")"
   ]
  },
  {
   "cell_type": "code",
   "execution_count": null,
   "metadata": {},
   "outputs": [],
   "source": [
    "sheet:worksheet = wb.worksheets[0]\n",
    "type(sheet)\n",
    "sheets:list = []\n",
    "column_name = [cell.value for cell in list(sheet)[0]]\n",
    "\n",
    "for row in list(sheet)[1:]:\n",
    "    site:dict = {}\n",
    "    for idx,item in enumerate(row):\n",
    "        #print(idx,item.value)\n",
    "        site[column_names[idx]] = item.value\n",
    "    #print(\"==============\")\n",
    "    sheets.append(site)\n",
    "sheets"
   ]
  },
  {
   "cell_type": "code",
   "execution_count": null,
   "metadata": {},
   "outputs": [],
   "source": [
    "sheet:worksheet = wb.worksheets[0]\n",
    "type(sheet)\n",
    "sheets:list = []\n",
    "column_name = [cell.value for cell in list(sheet)[0]]\n",
    "\n",
    "for row in list(sheet)[1:]:\n",
    "    site:dict = {}\n",
    "    for idx,item in enumerate(row):\n",
    "        #print(column_names[idx],item.value)\n",
    "        site[column_names[idx]] = item.value\n",
    "    #print(\"==============\")\n",
    "    sheets.append(site)\n",
    "sheets"
   ]
  },
  {
   "cell_type": "code",
   "execution_count": null,
   "metadata": {},
   "outputs": [],
   "source": [
    "from pprint import pprint\n",
    "sheet:worksheet = wb.worksheets[0]\n",
    "type(sheet)\n",
    "sheets:list = []\n",
    "column_name = [cell.value for cell in list(sheet)[0]]#list的 Comprehension\n",
    "\n",
    "for row in list(sheet)[1:]:\n",
    "    site:dict = {}\n",
    "    for idx,item in enumerate(row):\n",
    "        #print(column_names[idx],item.value)\n",
    "        site[column_names[idx]] = item.value\n",
    "    #print(\"==============\")\n",
    "    sheets.append(site)\n",
    "print (len(sheets))#查筆數 \n",
    "pprint (sheets)  #sheet > list > dict\n",
    "\n",
    "\n",
    "\n"
   ]
  },
  {
   "cell_type": "code",
   "execution_count": null,
   "metadata": {},
   "outputs": [],
   "source": [
    "sheets"
   ]
  },
  {
   "cell_type": "code",
   "execution_count": 44,
   "metadata": {},
   "outputs": [
    {
     "data": {
      "text/plain": [
       "range(1, 11)"
      ]
     },
     "execution_count": 44,
     "metadata": {},
     "output_type": "execute_result"
    }
   ],
   "source": [
    "range(1,11)"
   ]
  },
  {
   "cell_type": "markdown",
   "metadata": {},
   "source": [
    "column_name = [cell.value for cell in list(sheet)[0]]"
   ]
  },
  {
   "cell_type": "code",
   "execution_count": 46,
   "metadata": {},
   "outputs": [
    {
     "data": {
      "text/plain": [
       "[1, 2, 3, 4, 5, 6, 7, 8, 9, 10]"
      ]
     },
     "execution_count": 46,
     "metadata": {},
     "output_type": "execute_result"
    }
   ],
   "source": [
    "#解釋column_name = [cell.value for cell in list(sheet)[0]]\n",
    "[i for i in range(1,11)]"
   ]
  },
  {
   "cell_type": "code",
   "execution_count": 47,
   "metadata": {},
   "outputs": [
    {
     "name": "stdout",
     "output_type": "stream",
     "text": [
      "['sitename', 'county', 'aqi', 'pollutant', 'status', 'so2', 'co', 'o3', 'o3_8hr', 'pm10', 'pm2.5', 'no2', 'nox', 'no', 'windspeed', 'winddirec', 'datacreationdate', 'unit', 'co_8hr', 'pm2.5_avg', 'pm10_avg', 'so2_avg', 'longitude', 'latitude', 'siteid']\n"
     ]
    },
    {
     "data": {
      "text/plain": [
       "'\\nfor row in list(sheet)[1:]:\\n    site:dict = {}\\n    for idx,item in enumerate(row):\\n        #print(idx,item.value)\\n        site[column_names[idx]] = item.value\\n    #print(\"==============\")\\n    sheets.append(site)\\nprint (len(sheets))#查筆數 \\npprint (sheets)  #sheet > list > dict\\n'"
      ]
     },
     "execution_count": 47,
     "metadata": {},
     "output_type": "execute_result"
    }
   ],
   "source": [
    "from pprint import pprint\n",
    "sheet:worksheet = wb.worksheets[0]\n",
    "type(sheet)\n",
    "sheets:list = []\n",
    "column_name = [cell.value for cell in list(sheet)[0]]#list的 Comprehension\n",
    "print(column_names)\n",
    "'''\n",
    "for row in list(sheet)[1:]:\n",
    "    site:dict = {}\n",
    "    for idx,item in enumerate(row):\n",
    "        #print(column_names[idx],item.value)\n",
    "        site[column_names[idx]] = item.value\n",
    "    #print(\"==============\")\n",
    "    sheets.append(site)\n",
    "print (len(sheets))#查筆數 \n",
    "pprint (sheets)  #sheet > list > dict\n",
    "'''\n",
    "\n"
   ]
  },
  {
   "cell_type": "code",
   "execution_count": null,
   "metadata": {},
   "outputs": [],
   "source": [
    "from pprint import pprint\n",
    "sheet:worksheet = wb.worksheets[0]\n",
    "type(sheet)\n",
    "sheets:list = []\n",
    "column_name = [cell.value for cell in list(sheet)[0]]#list的 Comprehension\n",
    "print(column_names)\n",
    "\n",
    "for row in list(sheet)[1:2]:\n",
    "    site:dict = {}\n",
    "    for idx,cell in enumerate(row):\n",
    "        #print(column_names.[idx],item.value)\n",
    "        print(idx,cell)\n",
    "        #site[column_names[idx]] = cell.value\n",
    "    #print(\"==============\")\n",
    "    sheets.append(site)\n",
    "print (len(sheets))#查筆數 \n",
    "pprint (sheets)  #sheet > list > dict\n"
   ]
  },
  {
   "cell_type": "code",
   "execution_count": null,
   "metadata": {},
   "outputs": [],
   "source": [
    "from pprint import pprint\n",
    "sheet:worksheet = wb.worksheets[0]\n",
    "type(sheet)\n",
    "sheets:list = []\n",
    "column_name = [cell.value for cell in list(sheet)[0]]#list的 Comprehension\n",
    "print(column_names)\n",
    "\n",
    "for row in list(sheet)[1:2]:\n",
    "    site:dict = {}\n",
    "    for idx,cell in enumerate(row):\n",
    "        #print(column_names.[idx],item.value)\n",
    "        #print(idx,cell)\n",
    "        site[column_names[idx]] = cell.value\n",
    "    #print(\"==============\")\n",
    "    sheets.append(site)\n",
    "#print (len(sheets))#查筆數 \n",
    "pprint (sheets)  #sheet > list > dict"
   ]
  },
  {
   "cell_type": "markdown",
   "metadata": {},
   "source": [
    "詞典物件(Dictionary Comprehensions)\n",
    "語法:{ key_expression : value_expression for expression in iterable }"
   ]
  },
  {
   "cell_type": "code",
   "execution_count": null,
   "metadata": {},
   "outputs": [],
   "source": [
    "from openpyxl import load_workbook, Workbook, worksheet\n",
    "\n",
    "wb:Workbook = load_workbook('aqi.xlsx')\n",
    "from pprint import pprint\n",
    "sheet:worksheet = wb.worksheets[0]\n",
    "sheets:list = []\n",
    "column_name = [cell.value for cell in list(sheet)[0]]#list的 Comprehension\n",
    "for row in list(sheet)[1:]:\n",
    "    site:dict = {column_names[idx]:cell.value for idx,cell in enumerate(row)}   \n",
    "    sheets.append(site)\n",
    "\n",
    "pprint (sheets)  #sheet > list > dict"
   ]
  },
  {
   "cell_type": "code",
   "execution_count": null,
   "metadata": {},
   "outputs": [],
   "source": [
    "for site in sheets:\n",
    "    if site['sitename'] == '大城':\n",
    "        print(site)"
   ]
  },
  {
   "cell_type": "code",
   "execution_count": null,
   "metadata": {},
   "outputs": [],
   "source": [
    "from openpyxl import load_workbook, Workbook, worksheet\n",
    "\n",
    "wb:Workbook = load_workbook('aqi.xlsx')\n",
    "from pprint import pprint\n",
    "sheet:worksheet = wb.worksheets[0]\n",
    "sheets:list = []\n",
    "column_names:list[str] =[cell.value for cell in list(sheet)[0]]\n",
    "for row in list(sheet)[1:]:\n",
    "    site:dict = {column_names[idx]:cell.value for idx,cell in enumerate(row)}    \n",
    "    sheets.append(site)\n",
    "\n",
    "pprint(sheets)"
   ]
  },
  {
   "cell_type": "code",
   "execution_count": null,
   "metadata": {},
   "outputs": [],
   "source": [
    "for site in sheets:\n",
    "    if site['sitename'] == '永和':\n",
    "        print(site)"
   ]
  }
 ],
 "metadata": {
  "kernelspec": {
   "display_name": "base",
   "language": "python",
   "name": "python3"
  },
  "language_info": {
   "codemirror_mode": {
    "name": "ipython",
    "version": 3
   },
   "file_extension": ".py",
   "mimetype": "text/x-python",
   "name": "python",
   "nbconvert_exporter": "python",
   "pygments_lexer": "ipython3",
   "version": "3.12.4"
  }
 },
 "nbformat": 4,
 "nbformat_minor": 2
}
