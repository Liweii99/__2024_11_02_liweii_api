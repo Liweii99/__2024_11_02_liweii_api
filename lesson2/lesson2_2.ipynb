{
 "cells": [
  {
   "cell_type": "code",
   "execution_count": null,
   "metadata": {},
   "outputs": [
    {
     "name": "stdout",
     "output_type": "stream",
     "text": [
      "262.5\n"
     ]
    }
   ],
   "source": [
    "#學生總分為300\n",
    "#有學生可以加分5%\n",
    "\n",
    "\n",
    "scores = int(input('請輸入學生分數(最高300分):'))\n",
    "is_add = input ('學生是否符合加分條件?(y,n)')\n",
    "\n",
    "if is_add == \"y\":\n",
    "    pass\n",
    "    scores = scores * 1.05 \n",
    "\n",
    "print(scores)"
   ]
  },
  {
   "cell_type": "code",
   "execution_count": 9,
   "metadata": {},
   "outputs": [
    {
     "name": "stdout",
     "output_type": "stream",
     "text": [
      "300\n"
     ]
    }
   ],
   "source": [
    "#學生總分為300\n",
    "#有學生可以加分5%\n",
    "#如果加分超過300,就以300分為凖\n",
    "\n",
    "scores = int(input('請輸入學生分數(最高300分):'))\n",
    "is_add = input ('學生是否符合加分條件?(y,n)')\n",
    "\n",
    "if is_add == \"y\":\n",
    "    pass\n",
    "    scores = scores * 1.05 \n",
    "    if scores > 300:\n",
    "        scores = 300\n",
    "\n",
    "print(scores)"
   ]
  },
  {
   "cell_type": "code",
   "execution_count": null,
   "metadata": {},
   "outputs": [],
   "source": [
    "#學生總分為300\n",
    "#有學生可以加分5%\n",
    "#如果加分超過300,就以300分為凖\n",
    "try:\n",
    " #錯誤的寫法\n",
    "    scores = int(input('請輸入學生分數(最高300分):')) #250a,raise錯誤\n",
    "except ValueError:\n",
    "    print(\"格式錯誤\")\n",
    "\n",
    "is_add = input ('學生是否符合加分條件?(y,n)')\n",
    "\n",
    "if is_add == \"y\":\n",
    "    pass\n",
    "    scores = scores * 1.05 \n",
    "    if scores > 300:\n",
    "        scores = 300\n",
    "\n",
    "print(scores)"
   ]
  },
  {
   "cell_type": "code",
   "execution_count": null,
   "metadata": {},
   "outputs": [
    {
     "ename": "IndentationError",
     "evalue": "expected an indented block after 'if' statement on line 9 (3912815362.py, line 10)",
     "output_type": "error",
     "traceback": [
      "\u001b[0;36m  Cell \u001b[0;32mIn[2], line 10\u001b[0;36m\u001b[0m\n\u001b[0;31m    scores = scores * 1.05\u001b[0m\n\u001b[0m    ^\u001b[0m\n\u001b[0;31mIndentationError\u001b[0m\u001b[0;31m:\u001b[0m expected an indented block after 'if' statement on line 9\n"
     ]
    }
   ],
   "source": [
    "#學生總分為300\n",
    "#有學生可以加分5%\n",
    "#如果加分超過300,就以300分為凖\n",
    "try:\n",
    " #錯誤的寫法\n",
    "    scores = int(input('請輸入學生分數(最高300分):')) #250a,raise錯誤\n",
    "    is_add = input ('學生是否符合加分條件?(y,n)')       \n",
    "\n",
    "    if is_add == \"y\":\n",
    "        scores = scores * 1.05 \n",
    "    if scores > 300:\n",
    "        scores = 300\n",
    "\n",
    "    print(scores)\n",
    "except ValueError:\n",
    "    print(\"格式錯誤\")\n",
    "\n",
    "print(\"應用程式結束\")"
   ]
  },
  {
   "cell_type": "code",
   "execution_count": 4,
   "metadata": {},
   "outputs": [
    {
     "name": "stdout",
     "output_type": "stream",
     "text": [
      "格式錯誤\n",
      "應用程式結束\n"
     ]
    }
   ],
   "source": [
    "#學生總分為300\n",
    "#有些學生可以加分5%\n",
    "#如果加分超過300,就以300分為準\n",
    "try:\n",
    "    scores = int(input('請輸入學生分數(最高300分):'))\n",
    "    is_add = input('學生是否符合加分條件?(y,n)')\n",
    "\n",
    "    if is_add == 'y':\n",
    "        scores = scores * 1.05\n",
    "        if scores > 300:\n",
    "            scores = 300\n",
    "\n",
    "    print(scores)\n",
    "except ValueError:\n",
    "    print(\"格式錯誤\")\n",
    "\n",
    "print(\"應用程式結束\")"
   ]
  },
  {
   "cell_type": "code",
   "execution_count": 6,
   "metadata": {},
   "outputs": [
    {
     "name": "stdout",
     "output_type": "stream",
     "text": [
      "262.5\n",
      "應用程式結束\n"
     ]
    }
   ],
   "source": [
    "#學生總分為300\n",
    "#有些學生可以加分5%\n",
    "#如果加分超過300,就以300分為準\n",
    "try:\n",
    "    scores = int(input('請輸入學生分數(最高300分):'))\n",
    "    is_add = input('學生是否符合加分條件?(y,n)')\n",
    "\n",
    "    if is_add == 'y':\n",
    "        scores = scores * 1.05\n",
    "        if scores > 300:\n",
    "            scores = 300\n",
    "\n",
    "    print(scores)\n",
    "except Exception:\n",
    "    print(\"格式錯誤\")\n",
    "\n",
    "print(\"應用程式結束\")"
   ]
  },
  {
   "cell_type": "code",
   "execution_count": 5,
   "metadata": {},
   "outputs": [
    {
     "name": "stdout",
     "output_type": "stream",
     "text": [
      "262.5\n",
      "應用程式結束\n"
     ]
    }
   ],
   "source": [
    "#學生總分為300\n",
    "#有些學生可以加分5%\n",
    "#如果加分超過300,就以300分為準\n",
    "try:\n",
    "    scores = int(input('請輸入學生分數(最高300分):'))\n",
    "except Exception:\n",
    "    print(\"發生錯誤\")\n",
    "else:\n",
    "    is_add = input('學生是否符合加分條件?(y,n)')\n",
    "\n",
    "    if is_add == 'y':\n",
    "        scores = scores * 1.05\n",
    "        if scores > 300:\n",
    "            scores = 300\n",
    "\n",
    "    print(scores)\n",
    "\n",
    "print(\"應用程式結束\")"
   ]
  }
 ],
 "metadata": {
  "kernelspec": {
   "display_name": "base",
   "language": "python",
   "name": "python3"
  },
  "language_info": {
   "codemirror_mode": {
    "name": "ipython",
    "version": 3
   },
   "file_extension": ".py",
   "mimetype": "text/x-python",
   "name": "python",
   "nbconvert_exporter": "python",
   "pygments_lexer": "ipython3",
   "version": "3.12.2"
  }
 },
 "nbformat": 4,
 "nbformat_minor": 2
}
