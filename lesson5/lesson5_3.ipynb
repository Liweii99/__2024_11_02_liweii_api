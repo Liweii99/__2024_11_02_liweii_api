{
 "cells": [
  {
   "cell_type": "code",
   "execution_count": 6,
   "metadata": {},
   "outputs": [
    {
     "name": "stdout",
     "output_type": "stream",
     "text": [
      "Banana\n",
      "10\n",
      "===============\n",
      "Apple\n",
      "20\n",
      "===============\n",
      "Cherry\n",
      "30\n",
      "===============\n"
     ]
    }
   ],
   "source": [
    "class Item:\n",
    "    def __init__(self,name:str,price:int):\n",
    "        self.name = name\n",
    "        self.price = price\n",
    "\n",
    "items = [\n",
    "    Item(\"Apple\",20),\n",
    "    Item(\"Banana\",10),\n",
    "    Item(\"Cherry\",30)]\n",
    "\n",
    "def abc(x:Item) ->int:\n",
    "    return x.price\n",
    "#newItems = sorted(items,key=abc)\n",
    "newItems = sorted(items, key=abc)\n",
    "for item in newItems:\n",
    "    print(item.name)\n",
    "    print(item.price)\n",
    "    print('===============')\n"
   ]
  },
  {
   "cell_type": "code",
   "execution_count": null,
   "metadata": {},
   "outputs": [
    {
     "name": "stdout",
     "output_type": "stream",
     "text": [
      "Banana\n",
      "10\n",
      "=============\n",
      "Apple\n",
      "20\n",
      "=============\n",
      "Cherry\n",
      "30\n",
      "=============\n"
     ]
    }
   ],
   "source": [
    "class Item:\n",
    "    def __init__(self, name:str, price:int):\n",
    "        self.name = name\n",
    "        self.price = price\n",
    "\n",
    "items = [\n",
    "        Item(\"Apple\",20),\n",
    "        Item(\"Banana\",10),\n",
    "        Item(\"Cherry\",30)]\n",
    "\n",
    "def abc(x:Item)->int: #item傳給 x \n",
    "    return x.price\n",
    "\n",
    "newItems = sorted(items,key=abc)#註冊有這個function\n",
    "for item in newItems:\n",
    "    print(item.name)\n",
    "    print(item.price)\n",
    "    print(\"=============\")"
   ]
  },
  {
   "cell_type": "code",
   "execution_count": 9,
   "metadata": {},
   "outputs": [
    {
     "name": "stdout",
     "output_type": "stream",
     "text": [
      "Cherry\n",
      "30\n",
      "=============\n",
      "Apple\n",
      "20\n",
      "=============\n",
      "Banana\n",
      "10\n",
      "=============\n"
     ]
    }
   ],
   "source": [
    "class Item:\n",
    "    def __init__(self, name:str, price:int):\n",
    "        self.name = name\n",
    "        self.price = price\n",
    "\n",
    "items = [\n",
    "        Item(\"Apple\",20),\n",
    "        Item(\"Banana\",10),\n",
    "        Item(\"Cherry\",30)]\n",
    "\n",
    "#def abc(x:Item)->int: #item傳給 x \n",
    "#    return x.price\n",
    "\n",
    "newItems = sorted(items,key=lambda x:x.price,reverse=True)#註冊有這個function\n",
    "for item in newItems:\n",
    "    print(item.name)\n",
    "    print(item.price)\n",
    "    print(\"=============\")"
   ]
  }
 ],
 "metadata": {
  "kernelspec": {
   "display_name": "base",
   "language": "python",
   "name": "python3"
  },
  "language_info": {
   "codemirror_mode": {
    "name": "ipython",
    "version": 3
   },
   "file_extension": ".py",
   "mimetype": "text/x-python",
   "name": "python",
   "nbconvert_exporter": "python",
   "pygments_lexer": "ipython3",
   "version": "3.12.4"
  }
 },
 "nbformat": 4,
 "nbformat_minor": 2
}
