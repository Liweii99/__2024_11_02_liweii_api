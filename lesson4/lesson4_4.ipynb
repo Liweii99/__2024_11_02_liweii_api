{
 "cells": [
  {
   "cell_type": "code",
   "execution_count": 2,
   "metadata": {},
   "outputs": [],
   "source": [
    "class Person:\n",
    "    def __init__(self,name:str,age:int): #self可省略 init:實體的初始化\n",
    "        self.name = name#atribute\n",
    "        self.age = age #atribute\n",
    "#實體方法(instantce method)\n",
    "    def echo(self):\n",
    "        print(f'我的姓名是:{self.name}')\n",
    "        print(f'我的age是:{self.age}')"
   ]
  },
  {
   "cell_type": "code",
   "execution_count": null,
   "metadata": {},
   "outputs": [],
   "source": [
    "class Student(Person):\n",
    "    def __init__(self,name:str,age:int,score:int):\n",
    "        super().__init__(name=name,age=age)#super()執行副類別的initial\n",
    "        self.__score = score\n",
    "\n",
    "    @property #不能更改 \n",
    "    def score(self)->int:\n",
    "        return self.__score\n",
    "\n",
    "    def echo(self):\n",
    "        super().echo()#super()執行副類別的initial\n",
    "        print(f'我的score是:{self.score}')"
   ]
  },
  {
   "cell_type": "code",
   "execution_count": 4,
   "metadata": {},
   "outputs": [
    {
     "ename": "AttributeError",
     "evalue": "property 'score' of 'Student' object has no setter",
     "output_type": "error",
     "traceback": [
      "\u001b[1;31m---------------------------------------------------------------------------\u001b[0m",
      "\u001b[1;31mAttributeError\u001b[0m                            Traceback (most recent call last)",
      "Cell \u001b[1;32mIn[4], line 2\u001b[0m\n\u001b[0;32m      1\u001b[0m s1:Student \u001b[38;5;241m=\u001b[39m Student(\u001b[38;5;124m'\u001b[39m\u001b[38;5;124m小張\u001b[39m\u001b[38;5;124m'\u001b[39m,age\u001b[38;5;241m=\u001b[39m\u001b[38;5;241m17\u001b[39m,score\u001b[38;5;241m=\u001b[39m\u001b[38;5;241m245\u001b[39m)\n\u001b[1;32m----> 2\u001b[0m \u001b[43ms1\u001b[49m\u001b[38;5;241;43m.\u001b[39;49m\u001b[43mscore\u001b[49m \u001b[38;5;241m=\u001b[39m \u001b[38;5;241m300\u001b[39m\n\u001b[0;32m      3\u001b[0m s1\u001b[38;5;241m.\u001b[39mecho()\n",
      "\u001b[1;31mAttributeError\u001b[0m: property 'score' of 'Student' object has no setter"
     ]
    }
   ],
   "source": [
    "s1:Student = Student('小張',age=17,score=245)\n",
    "s1.score = 300\n",
    "s1.echo()"
   ]
  },
  {
   "cell_type": "code",
   "execution_count": 5,
   "metadata": {},
   "outputs": [
    {
     "name": "stdout",
     "output_type": "stream",
     "text": [
      "我的姓名是:小王\n",
      "我的age是:18\n",
      "我的score是:280\n"
     ]
    }
   ],
   "source": [
    "s2:Student = Student('小王',age=18,score=280)\n",
    "s2.echo()"
   ]
  },
  {
   "cell_type": "code",
   "execution_count": null,
   "metadata": {},
   "outputs": [],
   "source": []
  }
 ],
 "metadata": {
  "kernelspec": {
   "display_name": "venv1",
   "language": "python",
   "name": "python3"
  },
  "language_info": {
   "codemirror_mode": {
    "name": "ipython",
    "version": 3
   },
   "file_extension": ".py",
   "mimetype": "text/x-python",
   "name": "python",
   "nbconvert_exporter": "python",
   "pygments_lexer": "ipython3",
   "version": "3.11.10"
  }
 },
 "nbformat": 4,
 "nbformat_minor": 2
}
